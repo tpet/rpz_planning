{
 "cells": [
  {
   "cell_type": "markdown",
   "id": "22a2b493",
   "metadata": {},
   "source": [
    "### Imports"
   ]
  },
  {
   "cell_type": "code",
   "execution_count": null,
   "id": "b652cc30",
   "metadata": {},
   "outputs": [],
   "source": [
    "import os\n",
    "import torch\n",
    "from pytorch3d.io import load_obj, save_obj\n",
    "from pytorch3d.structures import Meshes, Pointclouds\n",
    "from pytorch3d.utils import ico_sphere\n",
    "from pytorch3d.ops import sample_points_from_meshes\n",
    "import numpy as np\n",
    "from tqdm.notebook import tqdm\n",
    "%matplotlib notebook \n",
    "from mpl_toolkits.mplot3d import Axes3D\n",
    "import matplotlib.pyplot as plt\n",
    "import matplotlib as mpl\n",
    "mpl.rcParams['savefig.dpi'] = 80\n",
    "mpl.rcParams['figure.dpi'] = 80\n",
    "\n",
    "# Set the device\n",
    "if torch.cuda.is_available():\n",
    "    device = torch.device(\"cuda:0\")\n",
    "else:\n",
    "    device = torch.device(\"cpu\")"
   ]
  },
  {
   "cell_type": "markdown",
   "id": "506cbf78",
   "metadata": {},
   "source": [
    "### Ground truth map mesh"
   ]
  },
  {
   "cell_type": "code",
   "execution_count": null,
   "id": "b809e0f4",
   "metadata": {},
   "outputs": [],
   "source": [
    "verts, faces, aux = load_obj(os.path.join('./meshes/simple_tunnel_01_gz.obj'))\n",
    "\n",
    "# verts is a FloatTensor of shape (V, 3) where V is the number of vertices in the mesh\n",
    "# faces is an object which contains the following LongTensors: verts_idx, normals_idx and textures_idx\n",
    "# For this tutorial, normals and textures are ignored.\n",
    "faces_idx = faces.verts_idx.to(device)\n",
    "verts = verts.to(device)\n",
    "\n",
    "NORMALIZE_MESH = True\n",
    "if NORMALIZE_MESH:\n",
    "    # We scale normalize and center the target mesh to fit in a sphere of radius 1 centered at (0,0,0). \n",
    "    # (scale, center) will be used to bring the predicted mesh to its original center and scale\n",
    "    # Note that normalizing the target mesh, speeds up the optimization but is not necessary!\n",
    "    center = verts.mean(0)\n",
    "    verts = verts - center\n",
    "    scale = max(verts.abs().max(0)[0])\n",
    "    verts = verts / scale\n",
    "\n",
    "# We construct a Meshes structure for the target mesh\n",
    "map_gt_mesh = Meshes(verts=[verts], faces=[faces_idx])"
   ]
  },
  {
   "cell_type": "markdown",
   "id": "e855166a",
   "metadata": {},
   "source": [
    "### Point cloud to compare"
   ]
  },
  {
   "cell_type": "code",
   "execution_count": null,
   "id": "e70ad040",
   "metadata": {},
   "outputs": [],
   "source": [
    "def plot_pointcloud(inputs, title=\"\"):\n",
    "    assert isinstance(inputs, Meshes) or isinstance(inputs, Pointclouds)\n",
    "    if isinstance(inputs, Meshes):\n",
    "        # Sample points uniformly from the surface of the mesh.\n",
    "        points = sample_points_from_meshes(inputs, 1000)\n",
    "    elif isinstance(inputs, Pointclouds):\n",
    "        points = inputs.points_list()[0]\n",
    "    x, y, z = points.clone().detach().cpu().squeeze().unbind(1)    \n",
    "    fig = plt.figure(figsize=(5, 5))\n",
    "    ax = Axes3D(fig)\n",
    "    ax.scatter3D(x, z, -y)\n",
    "    ax.set_xlabel('x')\n",
    "    ax.set_ylabel('z')\n",
    "    ax.set_zlabel('y')\n",
    "    ax.set_title(title)\n",
    "    ax.view_init(190, 30)\n",
    "    plt.show()"
   ]
  },
  {
   "cell_type": "code",
   "execution_count": null,
   "id": "e134cc54",
   "metadata": {},
   "outputs": [],
   "source": [
    "points = sample_points_from_meshes(map_gt_mesh, 1000)\n",
    "point_cloud = Pointclouds(points)"
   ]
  },
  {
   "cell_type": "code",
   "execution_count": null,
   "id": "7a952af0",
   "metadata": {},
   "outputs": [],
   "source": [
    "plot_pointcloud(map_gt_mesh)"
   ]
  },
  {
   "cell_type": "code",
   "execution_count": null,
   "id": "19ef821f",
   "metadata": {},
   "outputs": [],
   "source": [
    "plot_pointcloud(point_cloud)"
   ]
  },
  {
   "cell_type": "markdown",
   "id": "6a56a384",
   "metadata": {},
   "source": [
    "### Compare mesh to point cloud"
   ]
  },
  {
   "cell_type": "code",
   "execution_count": null,
   "id": "11476035",
   "metadata": {},
   "outputs": [],
   "source": [
    "# Compare mesh and point cloud:\n",
    "# https://pytorch3d.readthedocs.io/en/latest/modules/loss.html#pytorch3d.loss.point_mesh_edge_distance\n",
    "from pytorch3d.loss import point_mesh_edge_distance, point_mesh_face_distance"
   ]
  },
  {
   "cell_type": "code",
   "execution_count": null,
   "id": "45f6da0c",
   "metadata": {},
   "outputs": [],
   "source": [
    "for num_points in tqdm(range(1000, 10_000, 1000)):\n",
    "    points = sample_points_from_meshes(map_gt_mesh, num_points)\n",
    "    point_cloud = Pointclouds(points)\n",
    "\n",
    "    loss_edge = point_mesh_edge_distance(meshes=map_gt_mesh, pcls=point_cloud)\n",
    "    loss_face = point_mesh_face_distance(meshes=map_gt_mesh, pcls=point_cloud)\n",
    "    print(f'Num sampled points: {num_points}, \\\n",
    "          loss_edge :{loss_edge.detach().cpu().numpy():.6f} \\\n",
    "          loss_face :{loss_face.detach().cpu().numpy():.6f}')"
   ]
  }
 ],
 "metadata": {
  "kernelspec": {
   "display_name": "Python 3",
   "language": "python",
   "name": "python3"
  },
  "language_info": {
   "codemirror_mode": {
    "name": "ipython",
    "version": 3
   },
   "file_extension": ".py",
   "mimetype": "text/x-python",
   "name": "python",
   "nbconvert_exporter": "python",
   "pygments_lexer": "ipython3",
   "version": "3.8.8"
  }
 },
 "nbformat": 4,
 "nbformat_minor": 5
}
