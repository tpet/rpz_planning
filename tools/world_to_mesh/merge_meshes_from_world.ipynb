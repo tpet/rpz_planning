{
 "cells": [
  {
   "cell_type": "code",
   "execution_count": 1,
   "id": "dd34d557",
   "metadata": {},
   "outputs": [],
   "source": [
    "import xml.etree.ElementTree as ET\n",
    "import collada, time, numpy as np, uuid, sys\n",
    "from math import pi\n",
    "import json, requests\n",
    "import os\n",
    "import zipfile\n",
    "from tqdm import tqdm\n",
    "from scipy.spatial.transform import Rotation as R\n",
    "import numpy as np"
   ]
  },
  {
   "cell_type": "code",
   "execution_count": 2,
   "id": "1506d262",
   "metadata": {},
   "outputs": [],
   "source": [
    "model_path = '/home/ruslan/.ignition/fuel/fuel.ignitionrobotics.org/openrobotics/models/'\n",
    "\n",
    "world_name = 'finals_practice_03'\n",
    "# world_name = 'simple_tunnel_02'\n",
    "\n",
    "world_path = f'/home/ruslan/CTU/subt_ws/src/subt/subt_ign/worlds/{world_name}.sdf'\n",
    "# world_path = f'/home/ruslan/CTU/python3_ws/src/rpz_planning/data/worlds/{world_name}.world'"
   ]
  },
  {
   "cell_type": "code",
   "execution_count": 3,
   "id": "2966abe4",
   "metadata": {},
   "outputs": [],
   "source": [
    "def find_character_in_string(s, ch):\n",
    "    return [i for i, ltr in enumerate(s) if ltr == ch]"
   ]
  },
  {
   "cell_type": "code",
   "execution_count": 4,
   "id": "80eea00c",
   "metadata": {},
   "outputs": [],
   "source": [
    "def get_sdf_path(model_path, model_name):\n",
    "    sdf_path = os.path.join(\n",
    "        model_path + model_name,\n",
    "        os.listdir(model_path + model_name)[0],\n",
    "        'model.sdf')\n",
    "    return sdf_path\n",
    "\n",
    "\n",
    "def find_root_sdf(model_name):\n",
    "    \n",
    "    if model_name == 'tunnel_staging_area':\n",
    "        model_name = 'subt_tunnel_staging_area'\n",
    "    elif model_name == 'Extinguisher':\n",
    "        model_name = 'Fire Extinguisher'\n",
    "\n",
    "    root_sdf = None\n",
    "\n",
    "    try:\n",
    "        model_name = model_name.lower()\n",
    "        sdf_path = get_sdf_path(model_path, model_name)\n",
    "        root_sdf = ET.parse(sdf_path).getroot()\n",
    "    except FileNotFoundError:\n",
    "        try:\n",
    "            model_name = model_name.lower().replace(' ', '_')\n",
    "            sdf_path = get_sdf_path(model_path, model_name)\n",
    "            root_sdf = ET.parse(sdf_path).getroot()\n",
    "        except FileNotFoundError:\n",
    "            try:\n",
    "                model_name = model_name.lower().replace('_', ' ')\n",
    "                sdf_path = get_sdf_path(model_path, model_name)\n",
    "                root_sdf = ET.parse(sdf_path).getroot()\n",
    "            except:\n",
    "                # https://github.com/ignitionrobotics/ign-fuel-tools\n",
    "                print('Try to use ign-fuel-tools to download model: ', model_name)\n",
    "                print('For example, execute: \\\n",
    "                    ign fuel download -u  https://fuel.ignitionrobotics.org/1.0/OpenRobotics/models/Large\\ Rock\\ Fall -v 4')\n",
    "\n",
    "    return root_sdf, model_name"
   ]
  },
  {
   "cell_type": "code",
   "execution_count": 5,
   "id": "54d851df",
   "metadata": {},
   "outputs": [],
   "source": [
    "def pose_to_matrix(pose):\n",
    "    assert len(pose) == 6\n",
    "    T = np.eye(4)\n",
    "    T[:3, :3] = R.from_euler('xyz', pose[3:], degrees=False).as_matrix()\n",
    "    T[:3, 3] = pose[:3]\n",
    "    return T"
   ]
  },
  {
   "cell_type": "code",
   "execution_count": 6,
   "id": "752529c7",
   "metadata": {},
   "outputs": [],
   "source": [
    "def parse_sdf(model_name):\n",
    "    \n",
    "    root_sdf, model_name = find_root_sdf(model_name)\n",
    "    if root_sdf is None:\n",
    "        return []\n",
    "\n",
    "    root_pose = root_sdf.find('model/link/pose').text if root_sdf.find('model/link/pose') is not None else '0 0 0 0 0 0'\n",
    "    root_pose = [float(a) for a in filter(lambda a: bool(a), root_pose.split(' '))]\n",
    "    T = pose_to_matrix(root_pose)\n",
    "\n",
    "    meshes = []\n",
    "    for node in root_sdf.findall('model/link/collision'):\n",
    "        pose = node.find('pose').text if node.find('pose') is not None else '0 0 0 0 0 0'\n",
    "        pose = [float(a) for a in filter(lambda a: bool(a), pose.split(' '))]\n",
    "        T = T @ pose_to_matrix(pose)\n",
    "\n",
    "        if node.find('geometry/mesh') is not None:  # Importing DAE collision mesh\n",
    "            # print('DAE detected !')\n",
    "            dae_file = node.find('geometry/mesh/uri').text\n",
    "            if 'https://' in dae_file:\n",
    "                dae_file = dae_file[find_character_in_string(dae_file, '/')[-2]+1:]\n",
    "\n",
    "            dae_path = os.path.join(\n",
    "                os.path.join(model_path, model_name),\n",
    "                os.listdir(model_path + model_name)[0],\n",
    "                dae_file)\n",
    "\n",
    "            scale = node.find('geometry/mesh/scale').text if node.find('geometry/mesh/scale') is not None else '1 1 1'\n",
    "            scale = [float(a) for a in filter(lambda a: bool(a), scale.split(' '))]\n",
    "\n",
    "            mesh = collada.Collada(dae_path)\n",
    "\n",
    "            nodes = []\n",
    "            for child in mesh.scene.nodes:\n",
    "                if len(child.transforms) != 0 and isinstance(child.transforms[0], collada.scene.MatrixTransform):\n",
    "                    T = T @ child.transforms[0].matrix\n",
    "                    if (len(child.transforms)) > 1:\n",
    "                        scale = np.asarray(scale) * np.asarray([child.transforms.x, child.transforms.y, child.transforms.z])\n",
    "                    # child.transforms.append(collada.scene.MatrixTransform(T.flatten()))\n",
    "                    parent = collada.scene.Node('parent_' + child.id, children=[child])\n",
    "                else:\n",
    "                    parent = child\n",
    "                parent.transforms.append(collada.scene.MatrixTransform(T.flatten()))\n",
    "                parent.transforms.append(collada.scene.ScaleTransform(scale[0], scale[1], scale[2]))\n",
    "                nodes.append(parent)\n",
    "            mesh.scene.nodes = nodes\n",
    "            meshes.append(mesh)\n",
    "\n",
    "    return meshes"
   ]
  },
  {
   "cell_type": "code",
   "execution_count": 7,
   "id": "322f45c4",
   "metadata": {},
   "outputs": [],
   "source": [
    "def merge_meshes(meshes):\n",
    "    merged = collada.Collada()\n",
    "    if len(meshes) == 0:\n",
    "        return merged\n",
    "\n",
    "    merged.assetInfo = meshes[0].assetInfo\n",
    "\n",
    "    scene_nodes = []\n",
    "    for mesh in meshes:\n",
    "        merged.geometries.extend(mesh.geometries)\n",
    "\n",
    "        for scene in mesh.scenes:\n",
    "            scene_nodes.extend(scene.nodes)\n",
    "\n",
    "    myscene = collada.scene.Scene(\"myscene\", scene_nodes)\n",
    "    merged.scenes.append(myscene)\n",
    "    merged.scene = myscene\n",
    "\n",
    "    return merged"
   ]
  },
  {
   "cell_type": "code",
   "execution_count": 8,
   "id": "925a9501",
   "metadata": {},
   "outputs": [
    {
     "name": "stderr",
     "output_type": "stream",
     "text": [
      "  7%|▋         | 6/83 [00:00<00:01, 54.25it/s]"
     ]
    },
    {
     "name": "stdout",
     "output_type": "stream",
     "text": [
      "Try to use ign-fuel-tools to download model:  large rock fall\n",
      "     \n",
      "For example, execute:                     ign fuel download -u  https://fuel.ignitionrobotics.org/1.0/OpenRobotics/models/Large\\ Rock\\ Fall -v 4\n",
      "Try to use ign-fuel-tools to download model:  large rock fall\n",
      "     \n",
      "For example, execute:                     ign fuel download -u  https://fuel.ignitionrobotics.org/1.0/OpenRobotics/models/Large\\ Rock\\ Fall -v 4\n",
      "Try to use ign-fuel-tools to download model:  medium rock fall\n",
      "     \n",
      "For example, execute:                     ign fuel download -u  https://fuel.ignitionrobotics.org/1.0/OpenRobotics/models/Large\\ Rock\\ Fall -v 4\n"
     ]
    },
    {
     "name": "stderr",
     "output_type": "stream",
     "text": [
      " 94%|█████████▍| 78/83 [00:02<00:00, 57.29it/s]"
     ]
    },
    {
     "name": "stdout",
     "output_type": "stream",
     "text": [
      "Couldn't find transform between parent and child nodes\n",
      "Couldn't find transform between parent and child nodes\n",
      "Couldn't find transform between parent and child nodes\n"
     ]
    },
    {
     "name": "stderr",
     "output_type": "stream",
     "text": [
      "100%|██████████| 83/83 [00:02<00:00, 34.49it/s]\n"
     ]
    }
   ],
   "source": [
    "root = ET.parse(world_path).getroot()\n",
    "\n",
    "meshes = []\n",
    "for node in tqdm(root.findall('world/include')):\n",
    "    uri = node.find('uri').text\n",
    "    name = node.find('name').text if node.find('name') is not None else ''\n",
    "    pose = node.find('pose').text if node.find('pose') is not None else '0 0 0 0 0 0'\n",
    "    pose = [float(a) for a in filter(lambda a: bool(a), pose.split(' '))]\n",
    "    scale = node.find('scale').text if node.find('scale') is not None else '1 1 1'\n",
    "    scale = [float(a) for a in filter(lambda a: bool(a), scale.split(' '))]\n",
    "    \n",
    "    # Hardcode exceptions\n",
    "    if uri in ['model://sun', 'model://ground_plane', 'model://asphalt_plane']:\n",
    "        continue\n",
    "#     print()\n",
    "#     print('*'*30)\n",
    "#     print(uri, name, pose)\n",
    "\n",
    "    model_name = uri[8:]\n",
    "    if 'fuel' in uri:\n",
    "        model_name = model_name[find_character_in_string(model_name, '/')[-1] + 1:]\n",
    "    if model_name[-1] == ' ':\n",
    "        model_name = model_name[:-1]\n",
    "        \n",
    "    extracted_meshes = parse_sdf(model_name)\n",
    "    \n",
    "    for mesh in extracted_meshes:\n",
    "        for i, node in enumerate(mesh.scene.nodes):\n",
    "            if node.id is not None:\n",
    "                parent = collada.scene.Node('parent__' + node.id, children=[node])\n",
    "                # transformations\n",
    "                T = pose_to_matrix(pose)\n",
    "                parent.transforms.append(collada.scene.MatrixTransform(T.flatten()))\n",
    "                # scale\n",
    "                parent.transforms.append(collada.scene.ScaleTransform(scale[0], scale[1], scale[2]))\n",
    "                mesh.scene.nodes[i] = parent\n",
    "            else:\n",
    "                print(\"Couldn't find transform between parent and child nodes\")\n",
    "\n",
    "    meshes.extend(extracted_meshes)\n",
    "    \n",
    "output = merge_meshes(meshes)\n"
   ]
  },
  {
   "cell_type": "code",
   "execution_count": 9,
   "id": "1904f696",
   "metadata": {},
   "outputs": [
    {
     "data": {
      "image/png": "[encoded data removed]",
      "text/plain": [
       "<Figure size 432x288 with 1 Axes>"
      ]
     },
     "metadata": {
      "needs_background": "light"
     },
     "output_type": "display_data"
    }
   ],
   "source": [
    "import matplotlib.pyplot as plt\n",
    "\n",
    "plt.figure()\n",
    "plt.grid()\n",
    "for node in output.scene.nodes:\n",
    "    pose = node.transforms[0].matrix[:3, 3]\n",
    "    plt.plot(pose[0], pose[1], 'o')"
   ]
  },
  {
   "cell_type": "code",
   "execution_count": 10,
   "id": "2543992b",
   "metadata": {},
   "outputs": [],
   "source": [
    "output.write(f'/home/ruslan/Desktop/meshes/{world_name}.dae')"
   ]
  }
 ],
 "metadata": {
  "kernelspec": {
   "display_name": "Python 3",
   "language": "python",
   "name": "python3"
  },
  "language_info": {
   "codemirror_mode": {
    "name": "ipython",
    "version": 3
   },
   "file_extension": ".py",
   "mimetype": "text/x-python",
   "name": "python",
   "nbconvert_exporter": "python",
   "pygments_lexer": "ipython3",
   "version": "3.8.8"
  }
 },
 "nbformat": 4,
 "nbformat_minor": 5
}
