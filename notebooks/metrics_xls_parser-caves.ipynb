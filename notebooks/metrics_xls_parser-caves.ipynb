{
 "cells": [
  {
   "cell_type": "code",
   "execution_count": null,
   "id": "f7c955a2",
   "metadata": {},
   "outputs": [],
   "source": [
    "import pandas as pd\n",
    "import numpy as np\n",
    "import matplotlib.pyplot as plt\n",
    "import os\n",
    "plt.rcParams.update({'font.size': 22})"
   ]
  },
  {
   "cell_type": "markdown",
   "id": "91f3aa38",
   "metadata": {},
   "source": [
    "### Evaluation criterions"
   ]
  },
  {
   "cell_type": "markdown",
   "id": "91984849",
   "metadata": {},
   "source": [
    "In this notebook the following metrics are calculated in `Cave` environments for `Naex` and `Naex + Trajectory optimization`."
   ]
  },
  {
   "cell_type": "code",
   "execution_count": null,
   "id": "2ed7e00b",
   "metadata": {},
   "outputs": [],
   "source": [
    "common_metrics = [\n",
    "    'Exploration face loss',\n",
    "#     'Exploration edge loss',\n",
    "#     'Exploration chamfer loss',\n",
    "    'Exploration completeness',\n",
    "#     'Map face loss',\n",
    "#     'Map edge loss',\n",
    "#     'Map chamfer loss',\n",
    "    'Artifacts exploration completeness',\n",
    "    'Detections score',\n",
    "    'mAP',\n",
    "    'Total expected reward',\n",
    "    'Total artifacts reward',\n",
    "    'Travelled distance',\n",
    "    'Total actual reward',\n",
    "#     'Localization error: pos',\n",
    "#     'Localization error: ang'\n",
    "#     'Artifacts localization error',\n",
    "]\n",
    "\n",
    "worlds = [\"simple_cave_01\", \"simple_cave_02\", \"simple_cave_03\"]\n",
    "# worlds = [\"finals_qual\"]\n",
    "\n",
    "MIN_EXP_COMPL = 0.05\n",
    "MIN_TRAVELLED_DIST = 100\n",
    "\n",
    "paths = ['../data/metrics/naex/naex_vs_naex_trajopt/version-1/']\n",
    "# paths = ['../data/metrics/naex/naex_vs_naex_trajopt/version-2/']\n",
    "\n",
    "# all metrics files\n",
    "xls_files = [os.path.join(path, file) for path in paths for file in os.listdir(path) if 'xls' in file]\n",
    "    \n",
    "# filter by worlds\n",
    "xls_files1 = []\n",
    "for file in xls_files:\n",
    "    for world in worlds:\n",
    "        if world in file:\n",
    "            xls_files1.append(file)\n",
    "xls_files = xls_files1\n",
    "    \n",
    "# filter by computers\n",
    "# computers = ['ritz', 'halmos', 'goedel']\n",
    "# computers = ['halmos', 'ritz', 'zorn']\n",
    "computers = ['halmos', 'ritz']\n",
    "# computers = ['ritz']\n",
    "\n",
    "xls_files1 = []\n",
    "for file in xls_files:\n",
    "    for comp in computers:\n",
    "        if comp in file:\n",
    "            xls_files1.append(file)\n",
    "xls_files = xls_files1"
   ]
  },
  {
   "cell_type": "code",
   "execution_count": null,
   "id": "f06a040a",
   "metadata": {},
   "outputs": [],
   "source": [
    "# names = [\n",
    "#     'Time stamp',\n",
    "#     'Exploration face loss',\n",
    "#     'Exploration edge loss',\n",
    "#     'Exploration chamfer loss',\n",
    "#     'Exploration completeness',\n",
    "#     'Map face loss',\n",
    "#     'Map edge loss',\n",
    "#     'Map chamfer loss',\n",
    "#     'Artifacts exploration completeness',\n",
    "#     'Detections score',\n",
    "#     'mAP',\n",
    "#     'Total expected reward',\n",
    "#     'Total artifacts reward',\n",
    "#     'Travelled distance',\n",
    "#     'Total actual reward',\n",
    "#     'Localization error: pos',\n",
    "#     'Localization error: ang'\n",
    "#     'Artifacts localization error',\n",
    "# ]\n",
    "\n",
    "# from xlrd import open_workbook\n",
    "# from xlutils.copy import copy\n",
    "\n",
    "# for filepath in xls_files:\n",
    "#     rb = open_workbook(filepath)\n",
    "#     wb = copy(rb)\n",
    "#     s = wb.get_sheet(0)\n",
    "#     for i, name in enumerate(names):\n",
    "#         s.write(0, i, name)\n",
    "#     wb.save(filepath)"
   ]
  },
  {
   "cell_type": "markdown",
   "id": "fcf57f32",
   "metadata": {},
   "source": [
    "### All experiments"
   ]
  },
  {
   "cell_type": "code",
   "execution_count": null,
   "id": "481d975c",
   "metadata": {
    "scrolled": true
   },
   "outputs": [],
   "source": [
    "for world in worlds:\n",
    "    for i, metric in enumerate(common_metrics):\n",
    "        plt.figure(figsize=(10, 7))\n",
    "        plt.title(f\"World: {world}, metric: {metric}\")\n",
    "        xls_files_world = [file for file in xls_files if world in file]\n",
    "        for file in xls_files_world:\n",
    "            data = pd.read_excel(file)\n",
    "            data = data.fillna(method='ffill')\n",
    "\n",
    "            if metric in data and \\\n",
    "               np.max(data['Localization error: pos']) < 5.0 and \\\n",
    "               np.max(data['Exploration completeness']) > MIN_EXP_COMPL and \\\n",
    "               np.max(data['Travelled distance']) > MIN_TRAVELLED_DIST and \\\n",
    "               np.max(data[metric]) > 0:\n",
    "                ls = 'solid' if 'opt_path_true' in file or 'opt_path_1' in file else 'dashed'\n",
    "                t = data['Time stamp'] - data['Time stamp'][0]\n",
    "                plt.plot(t, data[metric], linestyle=ls, label=file)\n",
    "                                \n",
    "        plt.grid()\n",
    "        plt.xlabel('time, [sec]')\n",
    "        # plt.legend()\n",
    "        plt.show()\n",
    "        plt.close()"
   ]
  },
  {
   "cell_type": "code",
   "execution_count": null,
   "id": "6bda28b1",
   "metadata": {},
   "outputs": [],
   "source": [
    "for key in data:\n",
    "    print(key)"
   ]
  },
  {
   "cell_type": "code",
   "execution_count": null,
   "id": "380def9b",
   "metadata": {},
   "outputs": [],
   "source": [
    "data.head()"
   ]
  },
  {
   "cell_type": "markdown",
   "id": "93148ed1",
   "metadata": {},
   "source": [
    "### Average results"
   ]
  },
  {
   "cell_type": "code",
   "execution_count": null,
   "id": "3160a0c5",
   "metadata": {
    "scrolled": false
   },
   "outputs": [],
   "source": [
    "xls_files_useful = []\n",
    "\n",
    "for metric in common_metrics:\n",
    "    ts, values = [], []\n",
    "    ts_trajopt, values_trajopt = [], []\n",
    "    for file in xls_files:\n",
    "        data = pd.read_excel(file)\n",
    "        data = data.fillna(method='ffill')\n",
    "\n",
    "        if metric in data and \\\n",
    "           np.max(data['Localization error: pos']) < 5.0 and \\\n",
    "           np.max(data['Exploration completeness']) > MIN_EXP_COMPL and \\\n",
    "           np.max(data['Travelled distance']) > MIN_TRAVELLED_DIST and \\\n",
    "           np.max(data[metric]) > 0:\n",
    "                  \n",
    "            t = np.array(data[\"Time stamp\"] - data[\"Time stamp\"][0])\n",
    "            value = np.array(data[metric])\n",
    "\n",
    "            if 'opt_path_true' in file or 'opt_path_1' in file:\n",
    "                ts_trajopt.append(t)\n",
    "                values_trajopt.append(value)\n",
    "            elif 'opt_path_false' in file or 'opt_path_0' in file:\n",
    "                ts.append(t)\n",
    "                values.append(value)\n",
    "\n",
    "            xls_files_useful.append(file)\n",
    "\n",
    "    if len(xls_files_useful) == 0:\n",
    "        print('No data')\n",
    "        break\n",
    "\n",
    "    t_mean = np.linspace(0, 3600, 37)\n",
    "\n",
    "    values_interp = [np.interp(t_mean, t, v) for t, v in zip(ts, values)]\n",
    "    mean = np.mean(values_interp, axis=0) \n",
    "    std = np.std(values_interp, axis=0)\n",
    "    \n",
    "    values_interp = [np.interp(t_mean, t, v) for t, v in zip(ts_trajopt, values_trajopt)]\n",
    "    mean_trajopt = np.mean(values_interp, axis=0) \n",
    "    std_trajopt = np.std(values_interp, axis=0)\n",
    "\n",
    "    plt.figure(figsize=(10, 7))\n",
    "    plt.title(metric)\n",
    "    # for t, v, v_interp in zip(ts, values, values_interp):\n",
    "    #     plt.plot(t, v)\n",
    "    #     plt.plot(t_mean, v_interp, 'x')\n",
    "\n",
    "    plt.plot(t_mean, mean, label='naex', color='orange')\n",
    "    plt.fill_between(t_mean, mean-std, mean+std, color='orange', alpha=0.2)\n",
    "    \n",
    "    plt.plot(t_mean, mean_trajopt, label='naex_trajopt', color='green')\n",
    "    plt.fill_between(t_mean, mean_trajopt-std_trajopt, mean_trajopt+std_trajopt, color='green', alpha=0.2)\n",
    "    \n",
    "    plt.grid()\n",
    "    plt.xlabel('time, [sec]')\n",
    "    plt.legend()\n",
    "\n",
    "    plt.show()\n",
    "    plt.close()"
   ]
  },
  {
   "cell_type": "code",
   "execution_count": null,
   "id": "dbb90703",
   "metadata": {},
   "outputs": [],
   "source": [
    "xls_files_useful = set(xls_files_useful)  # remove dublicates\n",
    "\n",
    "for world_name in worlds:\n",
    "    n_naex = len([file for file in xls_files_useful if world_name in file and (\"opt_path_false\" in file or \"opt_path_0\" in file)])\n",
    "    n_naex_trajopt = len([file for file in xls_files_useful if world_name in file and (\"opt_path_true\" in file or \"opt_path_1\" in file)])\n",
    "\n",
    "    print(world_name, \"N naex:\", n_naex, \"N naex trajopt:\", n_naex_trajopt)"
   ]
  },
  {
   "cell_type": "code",
   "execution_count": null,
   "id": "1733881c",
   "metadata": {},
   "outputs": [],
   "source": [
    "for cmp_name in computers:\n",
    "    n_naex = len([file for file in xls_files_useful if cmp_name in file and (\"opt_path_false\" in file or \"opt_path_0\" in file)])\n",
    "    n_naex_trajopt = len([file for file in xls_files_useful if cmp_name in file and (\"opt_path_true\" in file or \"opt_path_1\" in file)])\n",
    "\n",
    "    print(cmp_name, \"N naex:\", n_naex, \"N naex trajopt:\", n_naex_trajopt)"
   ]
  }
 ],
 "metadata": {
  "kernelspec": {
   "display_name": "Python 3 (ipykernel)",
   "language": "python",
   "name": "python3"
  },
  "language_info": {
   "codemirror_mode": {
    "name": "ipython",
    "version": 3
   },
   "file_extension": ".py",
   "mimetype": "text/x-python",
   "name": "python",
   "nbconvert_exporter": "python",
   "pygments_lexer": "ipython3",
   "version": "3.8.8"
  }
 },
 "nbformat": 4,
 "nbformat_minor": 5
}
