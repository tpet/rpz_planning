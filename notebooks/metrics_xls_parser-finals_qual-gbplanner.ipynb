{
 "cells": [
  {
   "cell_type": "code",
   "execution_count": null,
   "id": "f7c955a2",
   "metadata": {},
   "outputs": [],
   "source": [
    "import pandas as pd\n",
    "import numpy as np\n",
    "import matplotlib.pyplot as plt\n",
    "import os\n",
    "plt.rcParams.update({'font.size': 22})"
   ]
  },
  {
   "cell_type": "markdown",
   "id": "91f3aa38",
   "metadata": {},
   "source": [
    "### Evaluation criterions"
   ]
  },
  {
   "cell_type": "markdown",
   "id": "24acc63d",
   "metadata": {},
   "source": [
    "In this notebook the following metrics are calculated in the `Finals qualifications` environment for `GBplanner` and `GBplanner + Trajectory optimization`."
   ]
  },
  {
   "cell_type": "code",
   "execution_count": null,
   "id": "2ed7e00b",
   "metadata": {},
   "outputs": [],
   "source": [
    "common_metrics = [\n",
    "#     'Exploration face loss',\n",
    "#     'Exploration edge loss',\n",
    "#     'Exploration chamfer loss',\n",
    "#     'Exploration completeness',\n",
    "#     'Map face loss',\n",
    "#     'Map edge loss',\n",
    "#     'Map chamfer loss',\n",
    "    'Artifacts exploration completeness',\n",
    "    'Detections score',\n",
    "    'mAP',\n",
    "#     'Total expected reward',\n",
    "    'Total artifacts reward',\n",
    "    'Travelled distance',\n",
    "    'Total actual reward',\n",
    "#     'Localization error: pos',\n",
    "#     'Localization error: ang'\n",
    "#     'Artifacts localization error',\n",
    "]\n",
    "\n",
    "worlds = [\"finals_qual\"]\n",
    "\n",
    "MIN_EXP_COMPL = 0.0\n",
    "MIN_TRAVELLED_DIST = 100\n",
    "\n",
    "paths = ['../data/metrics/gbplanner/gbplanner_vs_gbplanner_trajopt/']\n",
    "\n",
    "# all metrics files\n",
    "xls_files = [os.path.join(path, file) for path in paths for file in os.listdir(path) if 'xls' in file]\n",
    "    \n",
    "# filter by worlds\n",
    "xls_files1 = []\n",
    "for file in xls_files:\n",
    "    for world in worlds:\n",
    "        if world in file:\n",
    "            xls_files1.append(file)\n",
    "xls_files = xls_files1\n",
    "    \n",
    "# filter by computers\n",
    "computers = ['ritz', 'halmos', 'goedel']\n",
    "# computers = ['halmos', 'ritz']\n",
    "# computers = ['ritz']\n",
    "\n",
    "xls_files1 = []\n",
    "for file in xls_files:\n",
    "    for comp in computers:\n",
    "        if comp in file:\n",
    "            xls_files1.append(file)\n",
    "xls_files = xls_files1"
   ]
  },
  {
   "cell_type": "code",
   "execution_count": null,
   "id": "f06a040a",
   "metadata": {},
   "outputs": [],
   "source": [
    "# names = [\n",
    "#     'Time stamp',\n",
    "#     'Exploration face loss',\n",
    "#     'Exploration edge loss',\n",
    "#     'Exploration chamfer loss',\n",
    "#     'Exploration completeness',\n",
    "#     'Map face loss',\n",
    "#     'Map edge loss',\n",
    "#     'Map chamfer loss',\n",
    "#     'Artifacts exploration completeness',\n",
    "#     'Detections score',\n",
    "#     'mAP',\n",
    "#     'Total expected reward',\n",
    "#     'Total artifacts reward',\n",
    "#     'Travelled distance',\n",
    "#     'Total actual reward',\n",
    "#     'Localization error: pos',\n",
    "#     'Localization error: ang'\n",
    "#     'Artifacts localization error',\n",
    "# ]\n",
    "\n",
    "# from xlrd import open_workbook\n",
    "# from xlutils.copy import copy\n",
    "\n",
    "# for filepath in xls_files:\n",
    "#     rb = open_workbook(filepath)\n",
    "#     wb = copy(rb)\n",
    "#     s = wb.get_sheet(0)\n",
    "#     for i, name in enumerate(names):\n",
    "#         s.write(0, i, name)\n",
    "#     wb.save(filepath)"
   ]
  },
  {
   "cell_type": "markdown",
   "id": "fcf57f32",
   "metadata": {},
   "source": [
    "### All experiments"
   ]
  },
  {
   "cell_type": "code",
   "execution_count": null,
   "id": "786d867a",
   "metadata": {},
   "outputs": [],
   "source": [
    "# !ls ../data/bags/mapping_eval/version-1/explorer_x1_opt_path_true_ritz_finals_qual_2021-09-06-16-24-24.xls"
   ]
  },
  {
   "cell_type": "code",
   "execution_count": null,
   "id": "481d975c",
   "metadata": {
    "scrolled": false
   },
   "outputs": [],
   "source": [
    "for world in worlds:\n",
    "    for i, metric in enumerate(common_metrics):\n",
    "        plt.figure(figsize=(10, 7))\n",
    "        plt.title(f\"World: {world}, metric: {metric}\")\n",
    "        xls_files_world = [file for file in xls_files if world in file]\n",
    "        for file in xls_files_world:\n",
    "            data = pd.read_excel(file)\n",
    "            data = data.fillna(method='ffill')\n",
    "\n",
    "            if metric in data and \\\n",
    "               np.max(data['Travelled distance']) > MIN_TRAVELLED_DIST:\n",
    "                ls = 'solid' if 'true' in file else 'dashed'\n",
    "                t = data['Time stamp'] - data['Time stamp'][0]\n",
    "                plt.plot(t, data[metric], linestyle=ls, label=file)\n",
    "                                \n",
    "        plt.grid()\n",
    "        plt.xlabel('time, [sec]')\n",
    "        # plt.legend()\n",
    "        plt.show()\n",
    "        plt.close()"
   ]
  },
  {
   "cell_type": "code",
   "execution_count": null,
   "id": "6bda28b1",
   "metadata": {},
   "outputs": [],
   "source": [
    "for key in data:\n",
    "    print(key)"
   ]
  },
  {
   "cell_type": "code",
   "execution_count": null,
   "id": "380def9b",
   "metadata": {},
   "outputs": [],
   "source": [
    "data.head()"
   ]
  },
  {
   "cell_type": "markdown",
   "id": "93148ed1",
   "metadata": {},
   "source": [
    "### Average results"
   ]
  },
  {
   "cell_type": "code",
   "execution_count": null,
   "id": "3160a0c5",
   "metadata": {
    "scrolled": false
   },
   "outputs": [],
   "source": [
    "xls_files_useful = []\n",
    "\n",
    "for metric in common_metrics:\n",
    "    ts, values = [], []\n",
    "    ts_trajopt, values_trajopt = [], []\n",
    "    for file in xls_files:\n",
    "        data = pd.read_excel(file)\n",
    "        data = data.fillna(method='ffill')\n",
    "\n",
    "        if metric in data and \\\n",
    "           np.max(data['Travelled distance']) > MIN_TRAVELLED_DIST:\n",
    "            \n",
    "            t = np.array(data[\"Time stamp\"] - data[\"Time stamp\"][0])\n",
    "            value = np.array(data[metric])\n",
    "\n",
    "            if 'true' in file:\n",
    "                ts_trajopt.append(t)\n",
    "                values_trajopt.append(value)\n",
    "            elif 'false' in file:\n",
    "                ts.append(t)\n",
    "                values.append(value)\n",
    "\n",
    "            xls_files_useful.append(file)\n",
    "\n",
    "    if len(xls_files_useful) == 0:\n",
    "        print('No data')\n",
    "        break\n",
    "\n",
    "    t_mean = np.linspace(0, 3600, 37)\n",
    "\n",
    "    values_interp = [np.interp(t_mean, t, v) for t, v in zip(ts, values)]\n",
    "    mean = np.mean(values_interp, axis=0) \n",
    "    std = np.std(values_interp, axis=0)\n",
    "    \n",
    "    values_interp = [np.interp(t_mean, t, v) for t, v in zip(ts_trajopt, values_trajopt)]\n",
    "    mean_trajopt = np.mean(values_interp, axis=0) \n",
    "    std_trajopt = np.std(values_interp, axis=0)\n",
    "\n",
    "    plt.figure(figsize=(10, 7))\n",
    "    plt.title(metric)\n",
    "    # for t, v, v_interp in zip(ts, values, values_interp):\n",
    "    #     plt.plot(t, v)\n",
    "    #     plt.plot(t_mean, v_interp, 'x')\n",
    "\n",
    "    plt.plot(t_mean, mean, label='gbplanner', color='orange')\n",
    "    plt.fill_between(t_mean, mean-std, mean+std, color='orange', alpha=0.2)\n",
    "    \n",
    "    plt.plot(t_mean, mean_trajopt, label='gbplanner_trajopt', color='green')\n",
    "    plt.fill_between(t_mean, mean_trajopt-std_trajopt, mean_trajopt+std_trajopt, color='green', alpha=0.2)\n",
    "    \n",
    "    plt.grid()\n",
    "    plt.xlabel('time, [sec]')\n",
    "    plt.legend()\n",
    "\n",
    "    plt.show()\n",
    "    plt.close()"
   ]
  },
  {
   "cell_type": "code",
   "execution_count": null,
   "id": "dbb90703",
   "metadata": {},
   "outputs": [],
   "source": [
    "xls_files_useful = set(xls_files_useful)  # remove dublicates\n",
    "\n",
    "for world_name in worlds:\n",
    "    n_gbplanner = len([file for file in xls_files_useful if world_name in file and \"false\" in file])\n",
    "    n_gbplanner_trajopt = len([file for file in xls_files_useful if world_name in file and \"true\" in file])\n",
    "\n",
    "    print(world_name, \"N gbplanner:\", n_gbplanner, \"N gbplanner trajopt:\", n_gbplanner_trajopt)"
   ]
  },
  {
   "cell_type": "code",
   "execution_count": null,
   "id": "1733881c",
   "metadata": {},
   "outputs": [],
   "source": [
    "for cmp_name in computers:\n",
    "    n_gbplanner = len([file for file in xls_files_useful if cmp_name in file and \"false\" in file])\n",
    "    n_gbplanner_trajopt = len([file for file in xls_files_useful if cmp_name in file and \"true\" in file])\n",
    "\n",
    "    print(cmp_name, \"N gbplanner:\", n_gbplanner, \"N gbplanner trajopt:\", n_gbplanner_trajopt)"
   ]
  }
 ],
 "metadata": {
  "kernelspec": {
   "display_name": "Python 3 (ipykernel)",
   "language": "python",
   "name": "python3"
  },
  "language_info": {
   "codemirror_mode": {
    "name": "ipython",
    "version": 3
   },
   "file_extension": ".py",
   "mimetype": "text/x-python",
   "name": "python",
   "nbconvert_exporter": "python",
   "pygments_lexer": "ipython3",
   "version": "3.8.8"
  }
 },
 "nbformat": 4,
 "nbformat_minor": 5
}
